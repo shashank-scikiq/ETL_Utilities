{
 "cells": [
  {
   "cell_type": "code",
   "execution_count": null,
   "metadata": {},
   "outputs": [],
   "source": [
    "import asyncio\n",
    "import os\n",
    "import pandas as pd\n",
    "from glob import glob\n",
    "from dotenv import load_dotenv\n",
    "import sys\n",
    "import env_defs as ed\n",
    "import utils"
   ]
  },
  {
   "cell_type": "code",
   "execution_count": null,
   "metadata": {},
   "outputs": [],
   "source": [
    "import traceback as tb"
   ]
  },
  {
   "cell_type": "markdown",
   "metadata": {},
   "source": [
    "### Catalogue the Files"
   ]
  },
  {
   "cell_type": "code",
   "execution_count": null,
   "metadata": {},
   "outputs": [],
   "source": [
    "logistics_files = glob(f'{ed.raw_files}/*shared_open_data_logistics_order*')\n",
    "b2b_files = glob(f'{ed.raw_files}/*shared_open_data_b2b_order*')\n",
    "b2c_files = glob(f'{ed.raw_files}/*nhm_order_fulfillment_subset_v1*')    \n",
    "voucher_files = glob(f'{ed.raw_files}/*shared_open_data_gift_voucher_order*')\n",
    "\n",
    "val_dict = {\"logistics\":logistics_files, \n",
    "            \"retail_b2b\":b2b_files, \n",
    "            \"retail_b2c\":b2c_files, \n",
    "            \"voucher\":voucher_files}"
   ]
  },
  {
   "cell_type": "markdown",
   "metadata": {},
   "source": [
    "## Delete after this ..."
   ]
  }
 ],
 "metadata": {
  "kernelspec": {
   "display_name": ".venv",
   "language": "python",
   "name": "python3"
  },
  "language_info": {
   "codemirror_mode": {
    "name": "ipython",
    "version": 3
   },
   "file_extension": ".py",
   "mimetype": "text/x-python",
   "name": "python",
   "nbconvert_exporter": "python",
   "pygments_lexer": "ipython3",
   "version": "3.12.4"
  }
 },
 "nbformat": 4,
 "nbformat_minor": 2
}
